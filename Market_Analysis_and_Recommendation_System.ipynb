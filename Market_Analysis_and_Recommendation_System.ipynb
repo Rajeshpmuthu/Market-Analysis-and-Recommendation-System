{
  "nbformat": 4,
  "nbformat_minor": 0,
  "metadata": {
    "colab": {
      "provenance": [],
      "mount_file_id": "1qWsWKite1AeEdLqSEtWraGizj-GzYKBG",
      "authorship_tag": "ABX9TyMnCzNrD0jY3Nw7xkNXSRdC",
      "include_colab_link": true
    },
    "kernelspec": {
      "name": "python3",
      "display_name": "Python 3"
    },
    "language_info": {
      "name": "python"
    }
  },
  "cells": [
    {
      "cell_type": "markdown",
      "metadata": {
        "id": "view-in-github",
        "colab_type": "text"
      },
      "source": [
        "<a href=\"https://colab.research.google.com/github/Rajeshpmuthu/Market-Analysis-and-Recommendation-System/blob/main/Market_Analysis_and_Recommendation_System.ipynb\" target=\"_parent\"><img src=\"https://colab.research.google.com/assets/colab-badge.svg\" alt=\"Open In Colab\"/></a>"
      ]
    },
    {
      "cell_type": "code",
      "execution_count": null,
      "metadata": {
        "id": "DiFhXohQD9GT"
      },
      "outputs": [],
      "source": []
    }
  ]
}